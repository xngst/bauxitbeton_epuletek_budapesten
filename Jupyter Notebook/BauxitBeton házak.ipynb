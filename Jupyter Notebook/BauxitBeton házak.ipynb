{
 "cells": [
  {
   "cell_type": "markdown",
   "metadata": {},
   "source": [
    "<hr> \n",
    "\n",
    "## Bauxitbetonos épületek Budapesten\n",
    "### Az ÉMI adatok forrása elérhető [itt](https://www.emi.hu/EMI/web.nsf/Pub/bauxitbeton_epuletek.html)\n",
    "\n",
    "<hr>  "
   ]
  },
  {
   "cell_type": "markdown",
   "metadata": {},
   "source": [
    "A bauxitbeton kötőanyagát, az alumíniumcementet főleg az 1920-as eleje és 1940-es évek vége között használták Magyarországon, mivel alkalmazása meggyorsította és gazdaságossá tette a munkát (a hagyományos portlandcementtel készítettel ellentétben egy-két nap alatt megszilárdult). Az 1930-as évektől 1942-ig - főleg Budapesten - igen sok lakó-, köz-, és ipari épület készült bauxitbeton alkalmazásával. A háború alatt védműveket, bunkereket építettek belőle, a negyvenes évek végén pedig sűrűn használták a háborús károk helyreállítására.\n",
    "\n",
    "Az 1960-as évek végére egyértelművé vált, hogy a megszilárdulás után sajátos kémiai reakciók indulnak meg a bauxitbeton anyagában és ezek szilárdságcsökkenéshez vezetnek. A több mint harmincéves vizsgálati tapasztalat alapján megállapítható, hogy a szilárdságcsökkenés sebessége a korábban feltételezettnél kisebb, de nem elhanyagolható mértékű. A tényleges helyzetet tovább ronthatják olyan kedvezőtlen környezeti hatások, mint a nedvesség és a magas hőmérséklet. Figyelembe kell venni azt a tényt is, hogy a bauxitbeton eleve kisebb szilárdságú, mint a portland cement felhasználásával készült beton. Ezért szükséges a bauxitbeton szerkezetek rendszeres és szakszerű megfigyelése, valamint időszakos műszeres vizsgálata.\n",
    "\n",
    "ÉMI prezentáció: [BAUXITBETON A HÁZBAN? MÍTOSZ ÉS VALÓSÁG...](https://www.emi.hu/webadatbazisok/Publikaciok.nsf/PublicationsPreviewHTMLByDate/42B00B8C4B3206F8C12580FF00551092/$FILE/Bauxitbeton%20a%20hazban%20-%20Mitosz%20es%20valosag%20_%20Horvath_Soma.pdf)"
   ]
  },
  {
   "cell_type": "code",
   "execution_count": 1,
   "metadata": {},
   "outputs": [],
   "source": [
    "from pathlib import Path\n",
    "import re\n",
    "import time\n",
    "\n",
    "import folium\n",
    "import geocoder\n",
    "import numpy as np\n",
    "import pandas as pd\n",
    "import requests\n",
    "\n",
    "from bs4 import BeautifulSoup\n",
    "\n",
    "OUT_DIR = Path(\"/media/xunguist/FÉLTERRA/Projektek/Python_projektek/BauxitBeton Térkép\")"
   ]
  },
  {
   "cell_type": "markdown",
   "metadata": {},
   "source": [
    "### Adatok letöltése az [ÉMI](https://www.emi.hu/EMI/web.nsf/Pub/bauxitbeton_epuletek.html) oldaláról"
   ]
  },
  {
   "cell_type": "code",
   "execution_count": 2,
   "metadata": {},
   "outputs": [],
   "source": [
    "url = \"https://www.emi.hu/EMI/web.nsf/Pub/bauxitbeton_epuletek.html\"\n",
    "req = requests.get(url)\n",
    "content = req.text"
   ]
  },
  {
   "cell_type": "markdown",
   "metadata": {},
   "source": [
    "### Adattáblába rendezés"
   ]
  },
  {
   "cell_type": "code",
   "execution_count": 3,
   "metadata": {},
   "outputs": [
    {
     "data": {
      "text/plain": [
       "address                      0\n",
       "description                 59\n",
       "dokumentumlista           1913\n",
       "kapcsolodohivatkozasok    1913\n",
       "title                        0\n",
       "dtype: int64"
      ]
     },
     "execution_count": 3,
     "metadata": {},
     "output_type": "execute_result"
    }
   ],
   "source": [
    "soup = BeautifulSoup(content, 'html.parser')\n",
    "items = soup.find_all(class_=\"talalat\")\n",
    "\n",
    "df = pd.DataFrame()\n",
    "\n",
    "for element in items:\n",
    "    item_dict = {}\n",
    "    item_dict[\"title\"] = element.find(class_=\"title\").get_text()\n",
    "    item_dict[\"address\"] = element.find(class_=\"address\").get_text()\n",
    "    item_dict[\"description\"] = element.find(class_=\"description\").get_text()\n",
    "    item_dict[\"kapcsolodohivatkozasok\"] = \\\n",
    "    element.find(class_=\"kapcsolodohivatkozasok\").get_text()\n",
    "    item_dict[\"dokumentumlista\"] = \\\n",
    "    element.find(class_=\"dokumentumlista\").get_text()\n",
    "    \n",
    "    row_series = pd.Series(item_dict)\n",
    "    df = df.append(row_series, ignore_index=True)\n",
    "    \n",
    "df.replace(\"\",np.nan, inplace=True)\n",
    "df.isna().sum()"
   ]
  },
  {
   "cell_type": "markdown",
   "metadata": {},
   "source": [
    "### Formázás és tisztítás "
   ]
  },
  {
   "cell_type": "code",
   "execution_count": 4,
   "metadata": {},
   "outputs": [],
   "source": [
    "def to_int(text:str):\n",
    "    if text:\n",
    "        try:\n",
    "            ev = int(text)\n",
    "            return ev\n",
    "        except ValueError:\n",
    "            return np.nan\n",
    "    else:\n",
    "        return np.nan"
   ]
  },
  {
   "cell_type": "code",
   "execution_count": 5,
   "metadata": {},
   "outputs": [],
   "source": [
    "bp_bauxit_df = df[df[\"address\"].str.contains(\"Budapest\")].copy()\n",
    "\n",
    "#split, replace\n",
    "bp_bauxit_df[\"description\"].fillna(\"-\", inplace=True)\n",
    "bp_bauxit_df.loc[:,\"address\"].replace(\"\\n\",\"\", inplace=True)\n",
    "bp_bauxit_df[\"address_2\"] = bp_bauxit_df[\"address\"]\\\n",
    ".str.split(\",\", expand=True).iloc[:,1:2].copy()\n",
    "bp_bauxit_df[[\"ID1\",\"építési év\"]] = bp_bauxit_df[\"title\"]\\\n",
    ".str.split(\".\", expand=True).iloc[:,0:2].copy()\n",
    "bp_bauxit_df[\"Kerület\"] = bp_bauxit_df[\"ID1\"]\\\n",
    ".str.split(\"-\", expand=True).iloc[:,0].copy()\n",
    "bp_bauxit_df[\"Kerület\"] = bp_bauxit_df[\"Kerület\"]\\\n",
    ".str.split(\"/\", expand=True).iloc[:,0].copy()\n",
    "bp_bauxit_df[\"address_2\"] = bp_bauxit_df[\"address_2\"]\\\n",
    ".str.split(\".\", expand=True).iloc[:,0].copy()\n",
    "bp_bauxit_df[[\"ID2\",\"építési_év\"]] = bp_bauxit_df[\"title\"]\\\n",
    ".str.split(\"[\",expand=True)\n",
    "bp_bauxit_df[\"építési_év\"].replace(\"]\",\"\",inplace=True, regex=True)\n",
    "bp_bauxit_df[\"építési_év\"] = bp_bauxit_df[\"építési_év\"].apply(to_int)\n",
    "bp_bauxit_df[\"description\"] = bp_bauxit_df[\"description\"]\\\n",
    ".str.replace(\"::\",\" \").copy()\n",
    "bp_bauxit_df[\"Kerület\"].replace({\"\\(\":\"\"}, inplace=True, regex=True)\n",
    "\n",
    "#elírások és névváltozások javítása\n",
    "bp_bauxit_df[\"address_2\"].replace({\"Mátrai utca\": \"Mátray utca\",\n",
    "                           \"Felvinczi út\": \"Felvinci út\",\n",
    "                           \"Hermann Ottó\": \"Herman Ottó\",\n",
    "                           \"Spáhi utca\": \"Szpáhi utca\",\n",
    "                           \"Homokos dűlő\": \"Gázgyár Utca\",\n",
    "                           \"Pálffy György utca\": \"Balaton utca\",\n",
    "                           \"Nagydiófa utca\": \"Nagy Diófa utca\",\n",
    "                           \"Kisfuvaros utca\": \"Kis Fuvaros utca\",\n",
    "                           \"Nagyfuvaros utca\": \"Nagy Fuvaros utca\",\n",
    "                           \"Lónyai utca\": \"Lónyay utca\",\n",
    "                           \"Budapest, Budafoki út (107)-111-113.\": \"Budafoki út 111-113.\",\n",
    "                           \"Tass vezér utca\": \"Tas vezér utca\",\n",
    "                           \"Acsádi Ignác utca\": \"Acsády Ignác utca\",\n",
    "                           \"Határőr utca\": \"Határőr út\",\n",
    "                           \"Kékgolyó utca\": \"Kék Golyó utca\",\n",
    "                           \"Melinda utca\": \"Melinda út\",\n",
    "                           \"Rege utca\": \"Rege út\",\n",
    "                           \"Rozsnyai utca\": \"Rozsnyay utca\",\n",
    "                           \"Jurisics Miklós\": \"Jurisich Miklós\",\n",
    "                           \"Miskolci út\": \"Miskolci utca\"},\n",
    "                                  inplace=True,\n",
    "                                  regex=True)"
   ]
  },
  {
   "cell_type": "markdown",
   "metadata": {},
   "source": [
    "### Ábrázolás diagrammon kerület szerint"
   ]
  },
  {
   "cell_type": "code",
   "execution_count": 6,
   "metadata": {},
   "outputs": [
    {
     "data": {
      "text/html": [
       "<div>\n",
       "<style scoped>\n",
       "    .dataframe tbody tr th:only-of-type {\n",
       "        vertical-align: middle;\n",
       "    }\n",
       "\n",
       "    .dataframe tbody tr th {\n",
       "        vertical-align: top;\n",
       "    }\n",
       "\n",
       "    .dataframe thead th {\n",
       "        text-align: right;\n",
       "    }\n",
       "</style>\n",
       "<table border=\"1\" class=\"dataframe\">\n",
       "  <thead>\n",
       "    <tr style=\"text-align: right;\">\n",
       "      <th></th>\n",
       "      <th>address</th>\n",
       "    </tr>\n",
       "    <tr>\n",
       "      <th>Kerület</th>\n",
       "      <th></th>\n",
       "    </tr>\n",
       "  </thead>\n",
       "  <tbody>\n",
       "    <tr>\n",
       "      <th>II</th>\n",
       "      <td>257</td>\n",
       "    </tr>\n",
       "    <tr>\n",
       "      <th>XIII</th>\n",
       "      <td>228</td>\n",
       "    </tr>\n",
       "    <tr>\n",
       "      <th>XI</th>\n",
       "      <td>201</td>\n",
       "    </tr>\n",
       "    <tr>\n",
       "      <th>XIV</th>\n",
       "      <td>177</td>\n",
       "    </tr>\n",
       "    <tr>\n",
       "      <th>XII</th>\n",
       "      <td>163</td>\n",
       "    </tr>\n",
       "    <tr>\n",
       "      <th>I</th>\n",
       "      <td>90</td>\n",
       "    </tr>\n",
       "    <tr>\n",
       "      <th>IX</th>\n",
       "      <td>79</td>\n",
       "    </tr>\n",
       "    <tr>\n",
       "      <th>V</th>\n",
       "      <td>69</td>\n",
       "    </tr>\n",
       "    <tr>\n",
       "      <th>VII</th>\n",
       "      <td>64</td>\n",
       "    </tr>\n",
       "    <tr>\n",
       "      <th>VIII</th>\n",
       "      <td>53</td>\n",
       "    </tr>\n",
       "    <tr>\n",
       "      <th>III</th>\n",
       "      <td>53</td>\n",
       "    </tr>\n",
       "    <tr>\n",
       "      <th>VI</th>\n",
       "      <td>35</td>\n",
       "    </tr>\n",
       "    <tr>\n",
       "      <th>IV</th>\n",
       "      <td>33</td>\n",
       "    </tr>\n",
       "    <tr>\n",
       "      <th>X</th>\n",
       "      <td>19</td>\n",
       "    </tr>\n",
       "    <tr>\n",
       "      <th>XXI</th>\n",
       "      <td>19</td>\n",
       "    </tr>\n",
       "    <tr>\n",
       "      <th>XX</th>\n",
       "      <td>12</td>\n",
       "    </tr>\n",
       "    <tr>\n",
       "      <th>XXII</th>\n",
       "      <td>7</td>\n",
       "    </tr>\n",
       "    <tr>\n",
       "      <th>XIX</th>\n",
       "      <td>3</td>\n",
       "    </tr>\n",
       "    <tr>\n",
       "      <th>XVI</th>\n",
       "      <td>3</td>\n",
       "    </tr>\n",
       "    <tr>\n",
       "      <th>XVIII</th>\n",
       "      <td>3</td>\n",
       "    </tr>\n",
       "    <tr>\n",
       "      <th>XV</th>\n",
       "      <td>2</td>\n",
       "    </tr>\n",
       "  </tbody>\n",
       "</table>\n",
       "</div>"
      ],
      "text/plain": [
       "         address\n",
       "Kerület         \n",
       "II           257\n",
       "XIII         228\n",
       "XI           201\n",
       "XIV          177\n",
       "XII          163\n",
       "I             90\n",
       "IX            79\n",
       "V             69\n",
       "VII           64\n",
       "VIII          53\n",
       "III           53\n",
       "VI            35\n",
       "IV            33\n",
       "X             19\n",
       "XXI           19\n",
       "XX            12\n",
       "XXII           7\n",
       "XIX            3\n",
       "XVI            3\n",
       "XVIII          3\n",
       "XV             2"
      ]
     },
     "execution_count": 6,
     "metadata": {},
     "output_type": "execute_result"
    }
   ],
   "source": [
    "kerulet_df = bp_bauxit_df.groupby(\"Kerület\").count()\\\n",
    "[[\"address\"]].sort_values(by=\"address\", ascending=False)\n",
    "\n",
    "kerulet_df"
   ]
  },
  {
   "cell_type": "code",
   "execution_count": 7,
   "metadata": {},
   "outputs": [
    {
     "data": {
      "text/plain": [
       "<AxesSubplot:title={'center':'Bauxitbetonos épületek Budapesten kerület szerint'}, xlabel='Kerület'>"
      ]
     },
     "execution_count": 7,
     "metadata": {},
     "output_type": "execute_result"
    },
    {
     "data": {
      "image/png": "[encoded data removed]",
      "text/plain": [
       "<Figure size 864x504 with 1 Axes>"
      ]
     },
     "metadata": {
      "needs_background": "light"
     },
     "output_type": "display_data"
    }
   ],
   "source": [
    "kerulet_df.sort_index(inplace=True)\n",
    "kerulet_df.plot(kind=\"bar\",\n",
    "                figsize=(12,7),\n",
    "                colormap=\"gist_gray\",\n",
    "                title=\"Bauxitbetonos épületek Budapesten kerület szerint\"\n",
    "                )"
   ]
  },
  {
   "cell_type": "markdown",
   "metadata": {},
   "source": [
    "### Ábrázolás diagrammon építési év alapján"
   ]
  },
  {
   "cell_type": "code",
   "execution_count": 8,
   "metadata": {},
   "outputs": [
    {
     "data": {
      "text/html": [
       "<div>\n",
       "<style scoped>\n",
       "    .dataframe tbody tr th:only-of-type {\n",
       "        vertical-align: middle;\n",
       "    }\n",
       "\n",
       "    .dataframe tbody tr th {\n",
       "        vertical-align: top;\n",
       "    }\n",
       "\n",
       "    .dataframe thead th {\n",
       "        text-align: right;\n",
       "    }\n",
       "</style>\n",
       "<table border=\"1\" class=\"dataframe\">\n",
       "  <thead>\n",
       "    <tr style=\"text-align: right;\">\n",
       "      <th></th>\n",
       "      <th>address</th>\n",
       "    </tr>\n",
       "    <tr>\n",
       "      <th>építési_év</th>\n",
       "      <th></th>\n",
       "    </tr>\n",
       "  </thead>\n",
       "  <tbody>\n",
       "    <tr>\n",
       "      <th>1897</th>\n",
       "      <td>1</td>\n",
       "    </tr>\n",
       "    <tr>\n",
       "      <th>1926</th>\n",
       "      <td>2</td>\n",
       "    </tr>\n",
       "    <tr>\n",
       "      <th>1928</th>\n",
       "      <td>5</td>\n",
       "    </tr>\n",
       "    <tr>\n",
       "      <th>1929</th>\n",
       "      <td>12</td>\n",
       "    </tr>\n",
       "    <tr>\n",
       "      <th>1930</th>\n",
       "      <td>30</td>\n",
       "    </tr>\n",
       "    <tr>\n",
       "      <th>1931</th>\n",
       "      <td>36</td>\n",
       "    </tr>\n",
       "    <tr>\n",
       "      <th>1932</th>\n",
       "      <td>53</td>\n",
       "    </tr>\n",
       "    <tr>\n",
       "      <th>1933</th>\n",
       "      <td>34</td>\n",
       "    </tr>\n",
       "    <tr>\n",
       "      <th>1934</th>\n",
       "      <td>49</td>\n",
       "    </tr>\n",
       "    <tr>\n",
       "      <th>1935</th>\n",
       "      <td>53</td>\n",
       "    </tr>\n",
       "    <tr>\n",
       "      <th>1936</th>\n",
       "      <td>82</td>\n",
       "    </tr>\n",
       "    <tr>\n",
       "      <th>1937</th>\n",
       "      <td>81</td>\n",
       "    </tr>\n",
       "    <tr>\n",
       "      <th>1938</th>\n",
       "      <td>75</td>\n",
       "    </tr>\n",
       "    <tr>\n",
       "      <th>1939</th>\n",
       "      <td>38</td>\n",
       "    </tr>\n",
       "    <tr>\n",
       "      <th>1940</th>\n",
       "      <td>52</td>\n",
       "    </tr>\n",
       "    <tr>\n",
       "      <th>1941</th>\n",
       "      <td>63</td>\n",
       "    </tr>\n",
       "    <tr>\n",
       "      <th>1942</th>\n",
       "      <td>46</td>\n",
       "    </tr>\n",
       "    <tr>\n",
       "      <th>1943</th>\n",
       "      <td>10</td>\n",
       "    </tr>\n",
       "    <tr>\n",
       "      <th>1944</th>\n",
       "      <td>3</td>\n",
       "    </tr>\n",
       "  </tbody>\n",
       "</table>\n",
       "</div>"
      ],
      "text/plain": [
       "            address\n",
       "építési_év         \n",
       "1897              1\n",
       "1926              2\n",
       "1928              5\n",
       "1929             12\n",
       "1930             30\n",
       "1931             36\n",
       "1932             53\n",
       "1933             34\n",
       "1934             49\n",
       "1935             53\n",
       "1936             82\n",
       "1937             81\n",
       "1938             75\n",
       "1939             38\n",
       "1940             52\n",
       "1941             63\n",
       "1942             46\n",
       "1943             10\n",
       "1944              3"
      ]
     },
     "execution_count": 8,
     "metadata": {},
     "output_type": "execute_result"
    }
   ],
   "source": [
    "epitesi_ev = bp_bauxit_df.groupby(\"építési_év\").count()[[\"address\"]]\n",
    "epitesi_ev.index = epitesi_ev.index.astype(int)\n",
    "epitesi_ev.sort_index()"
   ]
  },
  {
   "cell_type": "code",
   "execution_count": 9,
   "metadata": {},
   "outputs": [
    {
     "data": {
      "text/plain": [
       "<AxesSubplot:title={'center':'Bauxitbetonos épületek Budapesten építési év szerint'}, xlabel='építési_év'>"
      ]
     },
     "execution_count": 9,
     "metadata": {},
     "output_type": "execute_result"
    },
    {
     "data": {
      "image/png": "[encoded data removed]",
      "text/plain": [
       "<Figure size 864x504 with 1 Axes>"
      ]
     },
     "metadata": {
      "needs_background": "light"
     },
     "output_type": "display_data"
    }
   ],
   "source": [
    "epitesi_ev.plot(kind=\"bar\",\n",
    "                figsize=(12,7),\n",
    "                colormap=\"gist_gray\",\n",
    "                title=\"Bauxitbetonos épületek Budapesten építési év szerint\")"
   ]
  },
  {
   "cell_type": "markdown",
   "metadata": {},
   "source": [
    "### Koordináták lekérezése cím alapján"
   ]
  },
  {
   "cell_type": "markdown",
   "metadata": {},
   "source": [
    "#### Open Street Map Policy: \n",
    ">No heavy uses (an absolute maximum of 1 request per second).  \n",
    "OSM’s Nominatim service is mainly there to power the search bar on openstreetmap.org. We are in principle   happy for the public API to be used by external users for creative and unexpected uses.   \n",
    "<b>However, be aware that the service runs on donated servers and has a very limited capacity.</b>   \n",
    "We therefore ask you to limit your use and adhere to this usage policy.  \n",
    "Use of any OSMF provided service is further governed by the OSMF Terms of Use ."
   ]
  },
  {
   "cell_type": "code",
   "execution_count": 10,
   "metadata": {},
   "outputs": [],
   "source": [
    "def addr_to_coord(address:str)->tuple:\n",
    "    time.sleep(2)\n",
    "    if address:\n",
    "        address = str(address).strip()\n",
    "        address = address.replace(\"/\",\"\")\n",
    "        address = \"\".join([\"Budapest, \",address,\".\"])\n",
    "    g = geocoder.osm(address)\n",
    "    try:\n",
    "        address_coordinate = (g.json.get(\"lat\"), g.json.get(\"lng\"))\n",
    "        return address_coordinate\n",
    "    except AttributeError as AE:\n",
    "        print(address)\n",
    "        return np.nan"
   ]
  },
  {
   "cell_type": "code",
   "execution_count": 11,
   "metadata": {},
   "outputs": [
    {
     "name": "stdout",
     "output_type": "stream",
     "text": [
      "None\n",
      "Budapest, Budafoki út (107)-111-113.\n"
     ]
    },
    {
     "name": "stderr",
     "output_type": "stream",
     "text": [
      "Status code Unknown from https://nominatim.openstreetmap.org/search: ERROR - HTTPSConnectionPool(host='nominatim.openstreetmap.org', port=443): Max retries exceeded with url: /search?q=Budapest%2C+Sz%C3%BCret+utca+25.&format=jsonv2&addressdetails=1&limit=1 (Caused by NewConnectionError('<urllib3.connection.HTTPSConnection object at 0x7f73d7565190>: Failed to establish a new connection: [Errno 101] Network is unreachable'))\n"
     ]
    },
    {
     "name": "stdout",
     "output_type": "stream",
     "text": [
      "Budapest, Szüret utca 25.\n"
     ]
    },
    {
     "name": "stderr",
     "output_type": "stream",
     "text": [
      "Status code Unknown from https://nominatim.openstreetmap.org/search: ERROR - HTTPSConnectionPool(host='nominatim.openstreetmap.org', port=443): Max retries exceeded with url: /search?q=Budapest%2C+Sz%C3%BCret+utca+5-7.&format=jsonv2&addressdetails=1&limit=1 (Caused by NewConnectionError('<urllib3.connection.HTTPSConnection object at 0x7f73d7562590>: Failed to establish a new connection: [Errno 101] Network is unreachable'))\n"
     ]
    },
    {
     "name": "stdout",
     "output_type": "stream",
     "text": [
      "Budapest, Szüret utca 5-7.\n"
     ]
    }
   ],
   "source": [
    "bp_bauxit_df.loc[:,\"coordinate\"] = bp_bauxit_df[\"address_2\"].apply(addr_to_coord).copy()"
   ]
  },
  {
   "cell_type": "code",
   "execution_count": 12,
   "metadata": {},
   "outputs": [],
   "source": [
    "bp_bauxit_df.to_excel(OUT_DIR/\"bp_bauxit_df.xlsx\")"
   ]
  },
  {
   "cell_type": "markdown",
   "metadata": {},
   "source": [
    "### Ábrázolás térképen"
   ]
  },
  {
   "cell_type": "code",
   "execution_count": 14,
   "metadata": {},
   "outputs": [],
   "source": [
    "mapit = folium.Map(location=[47.5093, 19.0453], \n",
    "                   tiles='Stamen Toner',\n",
    "                   zoom_start=15)\n",
    "\n",
    "for i, row in bp_bauxit_df.iterrows():\n",
    "    if row[\"coordinate\"] is not np.nan:\n",
    "        folium.Marker(location=row[\"coordinate\"],\n",
    "                      popup=row[\"description\"],\n",
    "                      tooltip = row[\"address\"],\n",
    "                      icon=folium.Icon(icon_color='black')\n",
    "                     ).add_to(mapit)\n",
    "\n",
    "t_text = \"Bauxitbetonos épületek Budapesten\"\n",
    "title_html = f\"\"\"<h3 align=\"center\" style=\"font-size:16px\"><b>{t_text}</b></h3>\"\"\"\n",
    "mapit.get_root().html.add_child(folium.Element(title_html))\n",
    "\n",
    "mapit.save(\"/media/xunguist/FÉLTERRA/Projektek/Python_projektek/BauxitBeton Térkép/Bauxit_Beton_Budapest_popup.html\")"
   ]
  },
  {
   "cell_type": "code",
   "execution_count": null,
   "metadata": {},
   "outputs": [],
   "source": []
  }
 ],
 "metadata": {
  "kernelspec": {
   "display_name": "Python 3",
   "language": "python",
   "name": "python3"
  },
  "language_info": {
   "codemirror_mode": {
    "name": "ipython",
    "version": 3
   },
   "file_extension": ".py",
   "mimetype": "text/x-python",
   "name": "python",
   "nbconvert_exporter": "python",
   "pygments_lexer": "ipython3",
   "version": "3.7.6"
  }
 },
 "nbformat": 4,
 "nbformat_minor": 4
}
